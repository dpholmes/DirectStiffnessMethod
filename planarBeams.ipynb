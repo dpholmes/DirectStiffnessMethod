{
 "cells": [
  {
   "cell_type": "markdown",
   "metadata": {},
   "source": [
    "<h1>Direct Stiffness Method: Beam Elements</h1>\n",
    "<h3>Structural Mechanics, Boston University</h3>\n",
    "<h4>Prof. Douglas P. Holmes</h4>\n",
    "\n",
    "Text\n",
    "\n",
    "Our procedure for solving this problem will proceed as follows:\n",
    "<ol>\n",
    "    <li>text</li>\n",
    "</ol>"
   ]
  },
  {
   "cell_type": "code",
   "execution_count": 1,
   "metadata": {},
   "outputs": [],
   "source": [
    "# Here are some common libraries that expand the functionality of python\n",
    "import math         # sine, cosine, sqrt, etc.\n",
    "import numpy as np  # so we can work with matrices\n",
    "\n",
    "import matplotlib\n",
    "import matplotlib.pyplot as plt # plotting\n",
    "\n",
    "import sympy        # symbolic calculations"
   ]
  },
  {
   "cell_type": "code",
   "execution_count": 20,
   "metadata": {},
   "outputs": [],
   "source": [
    "x, a1, a2, a3, a4, L = sympy.symbols('x a1 a2 a3 a4 L') # deflection w(x) = a1+a2*x+a3*x^2+a4*x^3\n",
    "w1, w2, theta_1, theta_2 = sympy.symbols('w1 w2 theta_1 theta_2') # degrees of freedom (DoF)\n",
    "E, I = sympy.symbols('E I') # materials and geometry\n",
    "F1, M1, F2, M2 = sympy.symbols('F1 M1 F2 M2') # forces (y direction) and couples"
   ]
  },
  {
   "cell_type": "code",
   "execution_count": 22,
   "metadata": {},
   "outputs": [],
   "source": [
    "def w(x):\n",
    "    return a1+a2*x+a3*x**2+a4*x**3"
   ]
  },
  {
   "cell_type": "code",
   "execution_count": 23,
   "metadata": {},
   "outputs": [
    {
     "data": {
      "text/latex": [
       "$\\displaystyle a_{1} + a_{2} x + a_{3} x^{2} + a_{4} x^{3}$"
      ],
      "text/plain": [
       "a1 + a2*x + a3*x**2 + a4*x**3"
      ]
     },
     "execution_count": 23,
     "metadata": {},
     "output_type": "execute_result"
    }
   ],
   "source": [
    "w(x)"
   ]
  },
  {
   "cell_type": "code",
   "execution_count": 24,
   "metadata": {},
   "outputs": [],
   "source": [
    "bc = [\n",
    "    sympy.Eq(w1,w(0)),\n",
    "    sympy.Eq(theta_1,sympy.diff(w(x),x).subs(x,0)),\n",
    "    sympy.Eq(w2,w(L)),\n",
    "    sympy.Eq(theta_2,sympy.diff(w(x),x).subs(x,L))\n",
    "]"
   ]
  },
  {
   "cell_type": "code",
   "execution_count": 25,
   "metadata": {},
   "outputs": [
    {
     "data": {
      "text/latex": [
       "$\\displaystyle w_{2} = L^{3} a_{4} + L^{2} a_{3} + L a_{2} + a_{1}$"
      ],
      "text/plain": [
       "Eq(w2, L**3*a4 + L**2*a3 + L*a2 + a1)"
      ]
     },
     "execution_count": 25,
     "metadata": {},
     "output_type": "execute_result"
    }
   ],
   "source": [
    "bc[2]"
   ]
  },
  {
   "cell_type": "code",
   "execution_count": 26,
   "metadata": {},
   "outputs": [],
   "source": [
    "coeffs = [a1,a2,a3,a4]"
   ]
  },
  {
   "cell_type": "code",
   "execution_count": 27,
   "metadata": {},
   "outputs": [],
   "source": [
    "Lmat, DoF = sympy.linear_eq_to_matrix(bc,coeffs)"
   ]
  },
  {
   "cell_type": "code",
   "execution_count": 28,
   "metadata": {},
   "outputs": [
    {
     "data": {
      "text/latex": [
       "$\\displaystyle \\left[\\begin{matrix}-1 & 0 & 0 & 0\\\\0 & -1 & 0 & 0\\\\-1 & - L & - L^{2} & - L^{3}\\\\0 & -1 & - 2 L & - 3 L^{2}\\end{matrix}\\right]$"
      ],
      "text/plain": [
       "Matrix([\n",
       "[-1,  0,     0,       0],\n",
       "[ 0, -1,     0,       0],\n",
       "[-1, -L, -L**2,   -L**3],\n",
       "[ 0, -1,  -2*L, -3*L**2]])"
      ]
     },
     "execution_count": 28,
     "metadata": {},
     "output_type": "execute_result"
    }
   ],
   "source": [
    "Lmat"
   ]
  },
  {
   "cell_type": "code",
   "execution_count": 29,
   "metadata": {},
   "outputs": [
    {
     "data": {
      "text/latex": [
       "$\\displaystyle \\left[\\begin{matrix}-1 & 0 & 0 & 0\\\\0 & -1 & 0 & 0\\\\\\frac{3}{L^{2}} & \\frac{2}{L} & - \\frac{3}{L^{2}} & \\frac{1}{L}\\\\- \\frac{2}{L^{3}} & - \\frac{1}{L^{2}} & \\frac{2}{L^{3}} & - \\frac{1}{L^{2}}\\end{matrix}\\right]$"
      ],
      "text/plain": [
       "Matrix([\n",
       "[     -1,       0,       0,       0],\n",
       "[      0,      -1,       0,       0],\n",
       "[ 3/L**2,     2/L, -3/L**2,     1/L],\n",
       "[-2/L**3, -1/L**2,  2/L**3, -1/L**2]])"
      ]
     },
     "execution_count": 29,
     "metadata": {},
     "output_type": "execute_result"
    }
   ],
   "source": [
    "Lmat.inv()"
   ]
  },
  {
   "cell_type": "code",
   "execution_count": 30,
   "metadata": {},
   "outputs": [],
   "source": [
    "a = Lmat.inv()*DoF"
   ]
  },
  {
   "cell_type": "code",
   "execution_count": 31,
   "metadata": {},
   "outputs": [],
   "source": [
    "a1, a2, a3, a4 = a[0], a[1], a[2], a[3]"
   ]
  },
  {
   "cell_type": "code",
   "execution_count": 32,
   "metadata": {},
   "outputs": [
    {
     "data": {
      "text/latex": [
       "$\\displaystyle \\theta_{1} x + w_{1} + x^{3} \\left(\\frac{\\theta_{1}}{L^{2}} + \\frac{\\theta_{2}}{L^{2}} + \\frac{2 w_{1}}{L^{3}} - \\frac{2 w_{2}}{L^{3}}\\right) + x^{2} \\left(- \\frac{2 \\theta_{1}}{L} - \\frac{\\theta_{2}}{L} - \\frac{3 w_{1}}{L^{2}} + \\frac{3 w_{2}}{L^{2}}\\right)$"
      ],
      "text/plain": [
       "theta_1*x + w1 + x**3*(theta_1/L**2 + theta_2/L**2 + 2*w1/L**3 - 2*w2/L**3) + x**2*(-2*theta_1/L - theta_2/L - 3*w1/L**2 + 3*w2/L**2)"
      ]
     },
     "execution_count": 32,
     "metadata": {},
     "output_type": "execute_result"
    }
   ],
   "source": [
    "w(x)"
   ]
  },
  {
   "cell_type": "code",
   "execution_count": 34,
   "metadata": {},
   "outputs": [
    {
     "data": {
      "text/latex": [
       "$\\displaystyle \\frac{6 E I \\left(\\theta_{1} + \\theta_{2} + \\frac{2 w_{1}}{L} - \\frac{2 w_{2}}{L}\\right)}{L^{2}}$"
      ],
      "text/plain": [
       "6*E*I*(theta_1 + theta_2 + 2*w1/L - 2*w2/L)/L**2"
      ]
     },
     "execution_count": 34,
     "metadata": {},
     "output_type": "execute_result"
    }
   ],
   "source": [
    "E*I*sympy.diff(w(x),x,3).subs(x,0)"
   ]
  },
  {
   "cell_type": "code",
   "execution_count": 35,
   "metadata": {},
   "outputs": [],
   "source": []
  },
  {
   "cell_type": "code",
   "execution_count": 37,
   "metadata": {},
   "outputs": [],
   "source": [
    "forcesCouples = [\n",
    "    sympy.Eq(F1, E*I*sympy.diff(w(x),x,3).subs(x,0)),\n",
    "    sympy.Eq(M1, -E*I*sympy.diff(w(x),x,2).subs(x,0)),\n",
    "    sympy.Eq(-F2, E*I*sympy.diff(w(x),x,3).subs(x,L)),\n",
    "    sympy.Eq(M2, E*I*sympy.diff(w(x),x,2).subs(x,L))\n",
    "]"
   ]
  },
  {
   "cell_type": "code",
   "execution_count": 39,
   "metadata": {},
   "outputs": [
    {
     "data": {
      "text/latex": [
       "$\\displaystyle F_{1} = \\frac{6 E I \\left(\\theta_{1} + \\theta_{2} + \\frac{2 w_{1}}{L} - \\frac{2 w_{2}}{L}\\right)}{L^{2}}$"
      ],
      "text/plain": [
       "Eq(F1, 6*E*I*(theta_1 + theta_2 + 2*w1/L - 2*w2/L)/L**2)"
      ]
     },
     "execution_count": 39,
     "metadata": {},
     "output_type": "execute_result"
    }
   ],
   "source": [
    "forcesCouples[0]"
   ]
  },
  {
   "cell_type": "code",
   "execution_count": 45,
   "metadata": {},
   "outputs": [],
   "source": [
    "DoF = [w1, theta_1, w2, theta_2]"
   ]
  },
  {
   "cell_type": "code",
   "execution_count": 48,
   "metadata": {},
   "outputs": [],
   "source": [
    "Ke, F = sympy.linear_eq_to_matrix(forcesCouples,DoF)"
   ]
  },
  {
   "cell_type": "code",
   "execution_count": 49,
   "metadata": {},
   "outputs": [
    {
     "data": {
      "text/latex": [
       "$\\displaystyle \\left[\\begin{matrix}- \\frac{12 E I}{L^{3}} & - \\frac{6 E I}{L^{2}} & \\frac{12 E I}{L^{3}} & - \\frac{6 E I}{L^{2}}\\\\- \\frac{6 E I}{L^{2}} & - \\frac{4 E I}{L} & \\frac{6 E I}{L^{2}} & - \\frac{2 E I}{L}\\\\- \\frac{12 E I}{L^{3}} & - \\frac{6 E I}{L^{2}} & \\frac{12 E I}{L^{3}} & - \\frac{6 E I}{L^{2}}\\\\- \\frac{6 E I}{L^{2}} & - \\frac{2 E I}{L} & \\frac{6 E I}{L^{2}} & - \\frac{4 E I}{L}\\end{matrix}\\right]$"
      ],
      "text/plain": [
       "Matrix([\n",
       "[-12*E*I/L**3, -6*E*I/L**2, 12*E*I/L**3, -6*E*I/L**2],\n",
       "[ -6*E*I/L**2,    -4*E*I/L,  6*E*I/L**2,    -2*E*I/L],\n",
       "[-12*E*I/L**3, -6*E*I/L**2, 12*E*I/L**3, -6*E*I/L**2],\n",
       "[ -6*E*I/L**2,    -2*E*I/L,  6*E*I/L**2,    -4*E*I/L]])"
      ]
     },
     "execution_count": 49,
     "metadata": {},
     "output_type": "execute_result"
    }
   ],
   "source": [
    "Ke"
   ]
  },
  {
   "cell_type": "code",
   "execution_count": 50,
   "metadata": {},
   "outputs": [
    {
     "data": {
      "text/latex": [
       "$\\displaystyle \\left[\\begin{matrix}- F_{1}\\\\- M_{1}\\\\F_{2}\\\\- M_{2}\\end{matrix}\\right]$"
      ],
      "text/plain": [
       "Matrix([\n",
       "[-F1],\n",
       "[-M1],\n",
       "[ F2],\n",
       "[-M2]])"
      ]
     },
     "execution_count": 50,
     "metadata": {},
     "output_type": "execute_result"
    }
   ],
   "source": [
    "F"
   ]
  },
  {
   "cell_type": "code",
   "execution_count": null,
   "metadata": {},
   "outputs": [],
   "source": []
  }
 ],
 "metadata": {
  "kernelspec": {
   "display_name": "Python 3",
   "language": "python",
   "name": "python3"
  },
  "language_info": {
   "codemirror_mode": {
    "name": "ipython",
    "version": 3
   },
   "file_extension": ".py",
   "mimetype": "text/x-python",
   "name": "python",
   "nbconvert_exporter": "python",
   "pygments_lexer": "ipython3",
   "version": "3.7.4"
  }
 },
 "nbformat": 4,
 "nbformat_minor": 2
}
