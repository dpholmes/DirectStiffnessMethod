{
 "cells": [
  {
   "cell_type": "markdown",
   "metadata": {},
   "source": [
    "<h1>Direct Stiffness Method: Beam Elements</h1>\n",
    "<h3>Structural Mechanics, Boston University</h3>\n",
    "<h4>Prof. Douglas P. Holmes</h4>"
   ]
  },
  {
   "cell_type": "code",
   "execution_count": 1,
   "metadata": {},
   "outputs": [],
   "source": [
    "# Here are some common libraries that expand the functionality of python\n",
    "import math         # sine, cosine, sqrt, etc.\n",
    "import numpy as np  # so we can work with matrices\n",
    "\n",
    "import matplotlib\n",
    "import matplotlib.pyplot as plt # plotting\n",
    "\n",
    "import sympy as sp        # symbolic calculations"
   ]
  },
  {
   "cell_type": "markdown",
   "metadata": {},
   "source": [
    "<h2>Deriving the Governing Equations for a Beam Element</h2>\n",
    "We will use SymPy"
   ]
  },
  {
   "cell_type": "code",
   "execution_count": 2,
   "metadata": {},
   "outputs": [],
   "source": [
    "x, a1, a2, a3, a4, L = sp.symbols('x a1 a2 a3 a4 L') # deflection w(x) = a1+a2*x+a3*x^2+a4*x^3\n",
    "w1, w2, theta_1, theta_2 = sp.symbols('w1 w2 theta_1 theta_2') # degrees of freedom (DoF)\n",
    "E, I = sp.symbols('E I') # materials and geometry\n",
    "F1, M1, F2, M2 = sp.symbols('F1 M1 F2 M2') # forces (y direction) and couples\n",
    "P, q = sp.symbols('P q') # force, force/length"
   ]
  },
  {
   "cell_type": "code",
   "execution_count": 3,
   "metadata": {},
   "outputs": [],
   "source": [
    "def w(x):\n",
    "    return a1+a2*x+a3*x**2+a4*x**3"
   ]
  },
  {
   "cell_type": "code",
   "execution_count": 4,
   "metadata": {},
   "outputs": [
    {
     "data": {
      "text/latex": [
       "$\\displaystyle a_{1} + a_{2} x + a_{3} x^{2} + a_{4} x^{3}$"
      ],
      "text/plain": [
       "a1 + a2*x + a3*x**2 + a4*x**3"
      ]
     },
     "execution_count": 4,
     "metadata": {},
     "output_type": "execute_result"
    }
   ],
   "source": [
    "w(x)"
   ]
  },
  {
   "cell_type": "code",
   "execution_count": 5,
   "metadata": {},
   "outputs": [],
   "source": [
    "# note: I've defined the RHS as negative because of how SymPy solves equations. \n",
    "# You get the correct answer either way, but the L-matrix has negative signs in opposite places\n",
    "bc = [\n",
    "    sp.Eq(w1,-w(0)), \n",
    "    sp.Eq(theta_1,-sp.diff(w(x),x).subs(x,0)),\n",
    "    sp.Eq(w2,-w(L)),\n",
    "    sp.Eq(theta_2,-sp.diff(w(x),x).subs(x,L))\n",
    "]"
   ]
  },
  {
   "cell_type": "code",
   "execution_count": 6,
   "metadata": {},
   "outputs": [
    {
     "data": {
      "text/latex": [
       "$\\displaystyle w_{2} = - L^{3} a_{4} - L^{2} a_{3} - L a_{2} - a_{1}$"
      ],
      "text/plain": [
       "Eq(w2, -L**3*a4 - L**2*a3 - L*a2 - a1)"
      ]
     },
     "execution_count": 6,
     "metadata": {},
     "output_type": "execute_result"
    }
   ],
   "source": [
    "bc[2]"
   ]
  },
  {
   "cell_type": "code",
   "execution_count": 7,
   "metadata": {},
   "outputs": [],
   "source": [
    "coeffs = [a1,a2,a3,a4]"
   ]
  },
  {
   "cell_type": "code",
   "execution_count": 8,
   "metadata": {},
   "outputs": [],
   "source": [
    "Lmat, DoF = sp.linear_eq_to_matrix(bc,coeffs)"
   ]
  },
  {
   "cell_type": "code",
   "execution_count": 9,
   "metadata": {},
   "outputs": [
    {
     "data": {
      "text/latex": [
       "$\\displaystyle \\left[\\begin{matrix}1 & 0 & 0 & 0\\\\0 & 1 & 0 & 0\\\\1 & L & L^{2} & L^{3}\\\\0 & 1 & 2 L & 3 L^{2}\\end{matrix}\\right]$"
      ],
      "text/plain": [
       "Matrix([\n",
       "[1, 0,    0,      0],\n",
       "[0, 1,    0,      0],\n",
       "[1, L, L**2,   L**3],\n",
       "[0, 1,  2*L, 3*L**2]])"
      ]
     },
     "execution_count": 9,
     "metadata": {},
     "output_type": "execute_result"
    }
   ],
   "source": [
    "Lmat"
   ]
  },
  {
   "cell_type": "code",
   "execution_count": 10,
   "metadata": {},
   "outputs": [
    {
     "data": {
      "text/latex": [
       "$\\displaystyle \\left[\\begin{matrix}1 & 0 & 0 & 0\\\\0 & 1 & 0 & 0\\\\- \\frac{3}{L^{2}} & - \\frac{2}{L} & \\frac{3}{L^{2}} & - \\frac{1}{L}\\\\\\frac{2}{L^{3}} & \\frac{1}{L^{2}} & - \\frac{2}{L^{3}} & \\frac{1}{L^{2}}\\end{matrix}\\right]$"
      ],
      "text/plain": [
       "Matrix([\n",
       "[      1,       0,       0,       0],\n",
       "[      0,       1,       0,       0],\n",
       "[-3/L**2,    -2/L,  3/L**2,    -1/L],\n",
       "[ 2/L**3, L**(-2), -2/L**3, L**(-2)]])"
      ]
     },
     "execution_count": 10,
     "metadata": {},
     "output_type": "execute_result"
    }
   ],
   "source": [
    "Lmat.inv()"
   ]
  },
  {
   "cell_type": "code",
   "execution_count": 11,
   "metadata": {},
   "outputs": [],
   "source": [
    "# Here again, the negative sign is to be consistent with the negative sign above in bc = [...]\n",
    "a = Lmat.inv()*(-DoF)"
   ]
  },
  {
   "cell_type": "code",
   "execution_count": 12,
   "metadata": {},
   "outputs": [],
   "source": [
    "a1, a2, a3, a4 = a[0], a[1], a[2], a[3]"
   ]
  },
  {
   "cell_type": "code",
   "execution_count": 13,
   "metadata": {},
   "outputs": [
    {
     "data": {
      "text/latex": [
       "$\\displaystyle \\theta_{1} x + w_{1} + x^{3} \\left(\\frac{\\theta_{1}}{L^{2}} + \\frac{\\theta_{2}}{L^{2}} + \\frac{2 w_{1}}{L^{3}} - \\frac{2 w_{2}}{L^{3}}\\right) + x^{2} \\left(- \\frac{2 \\theta_{1}}{L} - \\frac{\\theta_{2}}{L} - \\frac{3 w_{1}}{L^{2}} + \\frac{3 w_{2}}{L^{2}}\\right)$"
      ],
      "text/plain": [
       "theta_1*x + w1 + x**3*(theta_1/L**2 + theta_2/L**2 + 2*w1/L**3 - 2*w2/L**3) + x**2*(-2*theta_1/L - theta_2/L - 3*w1/L**2 + 3*w2/L**2)"
      ]
     },
     "execution_count": 13,
     "metadata": {},
     "output_type": "execute_result"
    }
   ],
   "source": [
    "w(x)"
   ]
  },
  {
   "cell_type": "code",
   "execution_count": 14,
   "metadata": {},
   "outputs": [],
   "source": [
    "forcesCouples = [\n",
    "    sp.Eq(F1,  E*I*sp.diff(w(x),x,3).subs(x,0)),\n",
    "    sp.Eq(M1, -E*I*sp.diff(w(x),x,2).subs(x,0)),\n",
    "    sp.Eq(F2, -E*I*sp.diff(w(x),x,3).subs(x,L)),\n",
    "    sp.Eq(M2,  E*I*sp.diff(w(x),x,2).subs(x,L))\n",
    "]"
   ]
  },
  {
   "cell_type": "code",
   "execution_count": 15,
   "metadata": {},
   "outputs": [
    {
     "data": {
      "text/latex": [
       "$\\displaystyle F_{1} = \\frac{6 E I \\left(\\theta_{1} + \\theta_{2} + \\frac{2 w_{1}}{L} - \\frac{2 w_{2}}{L}\\right)}{L^{2}}$"
      ],
      "text/plain": [
       "Eq(F1, 6*E*I*(theta_1 + theta_2 + 2*w1/L - 2*w2/L)/L**2)"
      ]
     },
     "execution_count": 15,
     "metadata": {},
     "output_type": "execute_result"
    }
   ],
   "source": [
    "forcesCouples[0]"
   ]
  },
  {
   "cell_type": "code",
   "execution_count": 16,
   "metadata": {},
   "outputs": [],
   "source": [
    "DoF = [w1, theta_1, w2, theta_2]\n",
    "Kel, FM = sp.linear_eq_to_matrix(forcesCouples,DoF)"
   ]
  },
  {
   "cell_type": "code",
   "execution_count": 17,
   "metadata": {},
   "outputs": [
    {
     "data": {
      "text/latex": [
       "$\\displaystyle \\left[\\begin{matrix}F_{1}\\\\M_{1}\\\\F_{2}\\\\M_{2}\\end{matrix}\\right]$"
      ],
      "text/plain": [
       "Matrix([\n",
       "[F1],\n",
       "[M1],\n",
       "[F2],\n",
       "[M2]])"
      ]
     },
     "execution_count": 17,
     "metadata": {},
     "output_type": "execute_result"
    }
   ],
   "source": [
    "-FM"
   ]
  },
  {
   "cell_type": "code",
   "execution_count": 18,
   "metadata": {},
   "outputs": [
    {
     "data": {
      "text/latex": [
       "$\\displaystyle \\left[\\begin{matrix}\\frac{12 E I}{L^{3}} & \\frac{6 E I}{L^{2}} & - \\frac{12 E I}{L^{3}} & \\frac{6 E I}{L^{2}}\\\\\\frac{6 E I}{L^{2}} & \\frac{4 E I}{L} & - \\frac{6 E I}{L^{2}} & \\frac{2 E I}{L}\\\\- \\frac{12 E I}{L^{3}} & - \\frac{6 E I}{L^{2}} & \\frac{12 E I}{L^{3}} & - \\frac{6 E I}{L^{2}}\\\\\\frac{6 E I}{L^{2}} & \\frac{2 E I}{L} & - \\frac{6 E I}{L^{2}} & \\frac{4 E I}{L}\\end{matrix}\\right]$"
      ],
      "text/plain": [
       "Matrix([\n",
       "[ 12*E*I/L**3,  6*E*I/L**2, -12*E*I/L**3,  6*E*I/L**2],\n",
       "[  6*E*I/L**2,     4*E*I/L,  -6*E*I/L**2,     2*E*I/L],\n",
       "[-12*E*I/L**3, -6*E*I/L**2,  12*E*I/L**3, -6*E*I/L**2],\n",
       "[  6*E*I/L**2,     2*E*I/L,  -6*E*I/L**2,     4*E*I/L]])"
      ]
     },
     "execution_count": 18,
     "metadata": {},
     "output_type": "execute_result"
    }
   ],
   "source": [
    "-Kel"
   ]
  },
  {
   "cell_type": "code",
   "execution_count": 19,
   "metadata": {},
   "outputs": [
    {
     "data": {
      "text/plain": [
       "[w1, theta_1, w2, theta_2]"
      ]
     },
     "execution_count": 19,
     "metadata": {},
     "output_type": "execute_result"
    }
   ],
   "source": [
    "DoF"
   ]
  },
  {
   "cell_type": "markdown",
   "metadata": {},
   "source": [
    "<h2>Solving Beam Deflection Problems</h2>\n",
    "<h3>Geometry, Materials, and Boundary Conditions</h3>\n",
    "Here, we will define the ($x$,$y$) coordinates of each node."
   ]
  },
  {
   "cell_type": "code",
   "execution_count": 20,
   "metadata": {},
   "outputs": [],
   "source": [
    "# [x1,y1], ... the (x,y) position of node 1, 2, 3...\n",
    "nodes = np.array([\n",
    "    [0,0],\n",
    "    [1,0],\n",
    "    [3,0]\n",
    "])\n",
    "# a list of all the nodes\n",
    "node_numbers = np.array([*range(len(nodes))])"
   ]
  },
  {
   "cell_type": "code",
   "execution_count": 21,
   "metadata": {},
   "outputs": [],
   "source": [
    "# element e is connected at nodes i and j\n",
    "# element e: [node i, node j, Young's Modulus, Second Moment of Area] ... note: we'll calculate L later\n",
    "elements = np.array([\n",
    "    [1, 2, E, I],\n",
    "    [2, 3, 2*E, I]\n",
    "])"
   ]
  },
  {
   "cell_type": "code",
   "execution_count": 22,
   "metadata": {},
   "outputs": [],
   "source": [
    "# dirichlet boundary conditions\n",
    "# [node, DoF (w=1, theta=2), value]\n",
    "bc = np.array([\n",
    "    [1,1,0],\n",
    "    [1,2,0],\n",
    "    [3,1,0]\n",
    "])"
   ]
  },
  {
   "cell_type": "code",
   "execution_count": 23,
   "metadata": {},
   "outputs": [],
   "source": [
    "# neumann boundary conditions - e.g. forces\n",
    "# [node, DoF (w=1,theta=2), magnitude of force]\n",
    "forces = np.array([\n",
    "    [2,1,-P]\n",
    "])"
   ]
  },
  {
   "cell_type": "code",
   "execution_count": 24,
   "metadata": {},
   "outputs": [],
   "source": [
    "# initializing the vectors F, u, and the matrix K\n",
    "F = u = np.zeros(2*len(nodes))\n",
    "K = np.zeros([2*len(nodes), 2*len(nodes)])"
   ]
  },
  {
   "cell_type": "code",
   "execution_count": 25,
   "metadata": {},
   "outputs": [],
   "source": [
    "def XY(nodes, elements, i):\n",
    "    return np.array([\n",
    "        nodes[int(elements[i,0]-1)],\n",
    "        nodes[int(elements[i,1]-1)]\n",
    "    ])"
   ]
  },
  {
   "cell_type": "code",
   "execution_count": 26,
   "metadata": {},
   "outputs": [],
   "source": [
    "# What nodes are not connected to the ith element?\n",
    "# list_of_all_nodes+1... the +1 is to align python numbering (starts at 0) with our numbering (starts at 1)\n",
    "def missingNodes(list_of_all_nodes, list_of_element_nodes): \n",
    "    return (list(set(list_of_all_nodes+1) - set(list_of_element_nodes+1))) "
   ]
  },
  {
   "cell_type": "code",
   "execution_count": 27,
   "metadata": {},
   "outputs": [],
   "source": [
    "# elemental stiffness matrix of a beam element in local coordinates\n",
    "def Kbel(XY, E, I):\n",
    "    x1, y1, x2, y2 = XY[0,0], XY[0,1], XY[1,0], XY[1,1]\n",
    "    \n",
    "    L = sp.Symbol('L', real=True, positive=True)\n",
    "\n",
    "    K = np.array([\n",
    "        [12, 6*L, -12, 6*L],\n",
    "        [6*L, 4*L**2, -6*L, 2*L**2],\n",
    "        [-12, -6*L, 12, -6*L],\n",
    "        [6*L, 2*L**2, -6*L, 4*L**2]\n",
    "    ])\n",
    "    \n",
    "    n = sp.sqrt((x2-x1)**2 + (y2-y1)**2)\n",
    "    B = sp.refine(E*I/(n*L)**3, sp.Q.positive(L) & sp.Q.real(L)) \n",
    "    \n",
    "    Kbel = B*K\n",
    "                  \n",
    "    return Kbel  "
   ]
  },
  {
   "cell_type": "code",
   "execution_count": 28,
   "metadata": {},
   "outputs": [],
   "source": [
    "# augment the elemental stiffness matrix by adding rows & columns of zeroes at the missing nodes\n",
    "def Kaug(Kel, element):\n",
    "    num_DoF = 2 # 2 DoF per node \n",
    "    missing = np.array(missingNodes(node_numbers,elements[element,:2]-1))\n",
    "    delete = (missing-num_DoF)+missing\n",
    "    \n",
    "    Kaug1 = np.insert(Kel,   delete, 0, axis=0)\n",
    "    Kaug2 = np.insert(Kaug1, delete, 0, axis=0)\n",
    "    Kaug3 = np.insert(Kaug2, delete, 0, axis=1)\n",
    "    Kaug  = np.insert(Kaug3, delete, 0, axis=1)\n",
    "    return Kaug"
   ]
  },
  {
   "cell_type": "code",
   "execution_count": 29,
   "metadata": {},
   "outputs": [
    {
     "data": {
      "text/latex": [
       "$\\displaystyle \\left[\\begin{matrix}0 & 0 & 0 & 0 & 0 & 0\\\\0 & 0 & 0 & 0 & 0 & 0\\\\0 & 0 & \\frac{3 E I}{L^{3}} & \\frac{3 E I}{2 L^{2}} & - \\frac{3 E I}{L^{3}} & \\frac{3 E I}{2 L^{2}}\\\\0 & 0 & \\frac{3 E I}{2 L^{2}} & \\frac{E I}{L} & - \\frac{3 E I}{2 L^{2}} & \\frac{E I}{2 L}\\\\0 & 0 & - \\frac{3 E I}{L^{3}} & - \\frac{3 E I}{2 L^{2}} & \\frac{3 E I}{L^{3}} & - \\frac{3 E I}{2 L^{2}}\\\\0 & 0 & \\frac{3 E I}{2 L^{2}} & \\frac{E I}{2 L} & - \\frac{3 E I}{2 L^{2}} & \\frac{E I}{L}\\end{matrix}\\right]$"
      ],
      "text/plain": [
       "Matrix([\n",
       "[0, 0,              0,               0,               0,               0],\n",
       "[0, 0,              0,               0,               0,               0],\n",
       "[0, 0,     3*E*I/L**3,  3*E*I/(2*L**2),     -3*E*I/L**3,  3*E*I/(2*L**2)],\n",
       "[0, 0, 3*E*I/(2*L**2),           E*I/L, -3*E*I/(2*L**2),       E*I/(2*L)],\n",
       "[0, 0,    -3*E*I/L**3, -3*E*I/(2*L**2),      3*E*I/L**3, -3*E*I/(2*L**2)],\n",
       "[0, 0, 3*E*I/(2*L**2),       E*I/(2*L), -3*E*I/(2*L**2),           E*I/L]])"
      ]
     },
     "execution_count": 29,
     "metadata": {},
     "output_type": "execute_result"
    }
   ],
   "source": [
    "sp.Matrix(Kaug(Kbel(XY(nodes, elements, 1), elements[1,2], elements[1,3]), 1))"
   ]
  },
  {
   "cell_type": "code",
   "execution_count": 30,
   "metadata": {},
   "outputs": [],
   "source": [
    "def MasterStiffness(nodes, elements, K):\n",
    "# Calculate the Master Stiffness matrix:\n",
    "# 1. Get the x & y coordinates of each node connected to element i\n",
    "# 2. Calculate the stiffness matrix for element i\n",
    "# 3. Augment the elemental stiffness matrix to the size of K\n",
    "# 4. Add it to K, loop over the remaining elements\n",
    "    for i in range(len(elements)):\n",
    "        nodesXY = XY(nodes, elements, i)\n",
    "        Kbeli  = Kbel(nodesXY, elements[i,2], elements[i,3])\n",
    "        Kaugi = Kaug(Kbeli, i)\n",
    "        K = np.add(K, Kaugi)    \n",
    "    return K"
   ]
  },
  {
   "cell_type": "code",
   "execution_count": 31,
   "metadata": {},
   "outputs": [],
   "source": [
    "K = MasterStiffness(nodes,elements,K)"
   ]
  },
  {
   "cell_type": "code",
   "execution_count": 32,
   "metadata": {},
   "outputs": [
    {
     "data": {
      "text/latex": [
       "$\\displaystyle \\left[\\begin{matrix}\\frac{12 E I}{L^{3}} & \\frac{6 E I}{L^{2}} & - \\frac{12 E I}{L^{3}} & \\frac{6 E I}{L^{2}} & 0.0 & 0.0\\\\\\frac{6 E I}{L^{2}} & \\frac{4 E I}{L} & - \\frac{6 E I}{L^{2}} & \\frac{2 E I}{L} & 0.0 & 0.0\\\\- \\frac{12 E I}{L^{3}} & - \\frac{6 E I}{L^{2}} & \\frac{15 E I}{L^{3}} & - \\frac{9 E I}{2 L^{2}} & - \\frac{3 E I}{L^{3}} & \\frac{3 E I}{2 L^{2}}\\\\\\frac{6 E I}{L^{2}} & \\frac{2 E I}{L} & - \\frac{9 E I}{2 L^{2}} & \\frac{5 E I}{L} & - \\frac{3 E I}{2 L^{2}} & \\frac{E I}{2 L}\\\\0.0 & 0.0 & - \\frac{3 E I}{L^{3}} & - \\frac{3 E I}{2 L^{2}} & \\frac{3 E I}{L^{3}} & - \\frac{3 E I}{2 L^{2}}\\\\0.0 & 0.0 & \\frac{3 E I}{2 L^{2}} & \\frac{E I}{2 L} & - \\frac{3 E I}{2 L^{2}} & \\frac{E I}{L}\\end{matrix}\\right]$"
      ],
      "text/plain": [
       "Matrix([\n",
       "[ 12*E*I/L**3,  6*E*I/L**2,    -12*E*I/L**3,      6*E*I/L**2,             0.0,             0.0],\n",
       "[  6*E*I/L**2,     4*E*I/L,     -6*E*I/L**2,         2*E*I/L,             0.0,             0.0],\n",
       "[-12*E*I/L**3, -6*E*I/L**2,     15*E*I/L**3, -9*E*I/(2*L**2),     -3*E*I/L**3,  3*E*I/(2*L**2)],\n",
       "[  6*E*I/L**2,     2*E*I/L, -9*E*I/(2*L**2),         5*E*I/L, -3*E*I/(2*L**2),       E*I/(2*L)],\n",
       "[         0.0,         0.0,     -3*E*I/L**3, -3*E*I/(2*L**2),      3*E*I/L**3, -3*E*I/(2*L**2)],\n",
       "[         0.0,         0.0,  3*E*I/(2*L**2),       E*I/(2*L), -3*E*I/(2*L**2),           E*I/L]])"
      ]
     },
     "execution_count": 32,
     "metadata": {},
     "output_type": "execute_result"
    }
   ],
   "source": [
    "sp.Matrix(K)"
   ]
  },
  {
   "cell_type": "code",
   "execution_count": 33,
   "metadata": {},
   "outputs": [],
   "source": [
    "# initialize vectors for the specified displacements and forces. these will be [1 x DoF]\n",
    "u_specified=[]\n",
    "F_specified=[0]*2*len(nodes)\n",
    "\n",
    "# what DoF are specified?\n",
    "for i in range(len(bc)):\n",
    "    u_specified.append(2*(bc[i,0]-1)+bc[i,1]-1)\n",
    "# assign the external forces to the corresponding DoF in F   \n",
    "for i in range(len(forces)):    \n",
    "    F_specified[(2*(forces[i,0]-1)+forces[i,1])-1]=forces[i,2]\n",
    "    \n",
    "u_unknown = np.delete(u,u_specified) # deleting the specified displacments from u\n",
    "K_reduced = np.delete(K,u_specified,0) # deleting rows\n",
    "K_reduced = np.delete(K_reduced,u_specified,1) # deleting columns\n",
    "F_specified = np.delete(F_specified,u_specified) # deleting the forces that correspond to specified displacments"
   ]
  },
  {
   "cell_type": "code",
   "execution_count": 34,
   "metadata": {},
   "outputs": [
    {
     "data": {
      "text/latex": [
       "$\\displaystyle \\left[\\begin{matrix}\\frac{15 E I}{L^{3}} & - \\frac{9 E I}{2 L^{2}} & \\frac{3 E I}{2 L^{2}}\\\\- \\frac{9 E I}{2 L^{2}} & \\frac{5 E I}{L} & \\frac{E I}{2 L}\\\\\\frac{3 E I}{2 L^{2}} & \\frac{E I}{2 L} & \\frac{E I}{L}\\end{matrix}\\right]$"
      ],
      "text/plain": [
       "Matrix([\n",
       "[    15*E*I/L**3, -9*E*I/(2*L**2), 3*E*I/(2*L**2)],\n",
       "[-9*E*I/(2*L**2),         5*E*I/L,      E*I/(2*L)],\n",
       "[ 3*E*I/(2*L**2),       E*I/(2*L),          E*I/L]])"
      ]
     },
     "execution_count": 34,
     "metadata": {},
     "output_type": "execute_result"
    }
   ],
   "source": [
    "sp.Matrix(K_reduced)"
   ]
  },
  {
   "cell_type": "code",
   "execution_count": 41,
   "metadata": {},
   "outputs": [],
   "source": [
    "u_unknown = sp.Matrix(K_reduced).inv()*sp.Matrix(F_specified)"
   ]
  },
  {
   "cell_type": "code",
   "execution_count": 42,
   "metadata": {},
   "outputs": [
    {
     "data": {
      "text/latex": [
       "$\\displaystyle \\left[\\begin{matrix}- \\frac{19 L^{3} P}{132 E I}\\\\- \\frac{7 L^{2} P}{44 E I}\\\\\\frac{13 L^{2} P}{44 E I}\\end{matrix}\\right]$"
      ],
      "text/plain": [
       "Matrix([\n",
       "[-19*L**3*P/(132*E*I)],\n",
       "[  -7*L**2*P/(44*E*I)],\n",
       "[  13*L**2*P/(44*E*I)]])"
      ]
     },
     "execution_count": 42,
     "metadata": {},
     "output_type": "execute_result"
    }
   ],
   "source": [
    "u_unknown"
   ]
  },
  {
   "cell_type": "code",
   "execution_count": 43,
   "metadata": {},
   "outputs": [],
   "source": [
    "# create a list of all the displacement degrees of freedom (DoF)\n",
    "u_DoF=[]\n",
    "for i in range(len(u)):\n",
    "    u_DoF.append(i)\n",
    "\n",
    "# get the index locations of the free degrees of freedom (DoF)    \n",
    "u_free = (list(set(u_DoF) - set(u_specified)))    \n",
    "\n",
    "# put the free (formerly unknown) displacements into the displacement vector u\n",
    "# np.put(u,u_free,u_unknown)\n",
    "for i in u_specified:\n",
    "    u_unknown = u_unknown.row_insert(int(i), sp.Matrix([0]))\n",
    "    \n",
    "u = u_unknown    "
   ]
  },
  {
   "cell_type": "code",
   "execution_count": 44,
   "metadata": {},
   "outputs": [
    {
     "data": {
      "text/latex": [
       "$\\displaystyle \\left[\\begin{matrix}0\\\\0\\\\- \\frac{19 L^{3} P}{132 E I}\\\\- \\frac{7 L^{2} P}{44 E I}\\\\0\\\\\\frac{13 L^{2} P}{44 E I}\\end{matrix}\\right]$"
      ],
      "text/plain": [
       "Matrix([\n",
       "[                   0],\n",
       "[                   0],\n",
       "[-19*L**3*P/(132*E*I)],\n",
       "[  -7*L**2*P/(44*E*I)],\n",
       "[                   0],\n",
       "[  13*L**2*P/(44*E*I)]])"
      ]
     },
     "execution_count": 44,
     "metadata": {},
     "output_type": "execute_result"
    }
   ],
   "source": [
    "u"
   ]
  },
  {
   "cell_type": "code",
   "execution_count": 46,
   "metadata": {},
   "outputs": [],
   "source": [
    "F = np.dot(np.array(K),np.array(u))"
   ]
  },
  {
   "cell_type": "code",
   "execution_count": 48,
   "metadata": {},
   "outputs": [
    {
     "data": {
      "text/latex": [
       "$\\displaystyle \\left[\\begin{matrix}\\frac{17 P}{22}\\\\\\frac{6 L P}{11}\\\\- P\\\\0\\\\\\frac{5 P}{22}\\\\0\\end{matrix}\\right]$"
      ],
      "text/plain": [
       "Matrix([\n",
       "[ 17*P/22],\n",
       "[6*L*P/11],\n",
       "[      -P],\n",
       "[       0],\n",
       "[  5*P/22],\n",
       "[       0]])"
      ]
     },
     "execution_count": 48,
     "metadata": {},
     "output_type": "execute_result"
    }
   ],
   "source": [
    "sp.Matrix(F)"
   ]
  },
  {
   "cell_type": "code",
   "execution_count": null,
   "metadata": {},
   "outputs": [],
   "source": []
  }
 ],
 "metadata": {
  "kernelspec": {
   "display_name": "Python 3",
   "language": "python",
   "name": "python3"
  },
  "language_info": {
   "codemirror_mode": {
    "name": "ipython",
    "version": 3
   },
   "file_extension": ".py",
   "mimetype": "text/x-python",
   "name": "python",
   "nbconvert_exporter": "python",
   "pygments_lexer": "ipython3",
   "version": "3.7.4"
  }
 },
 "nbformat": 4,
 "nbformat_minor": 2
}
