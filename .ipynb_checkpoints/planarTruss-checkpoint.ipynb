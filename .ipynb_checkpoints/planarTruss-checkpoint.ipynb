{
 "cells": [
  {
   "cell_type": "markdown",
   "metadata": {},
   "source": [
    "<h1>Direct Stiffness Method: Planar Truss</h1>\n",
    "<h3>ME309: Structural Mechanics, Boston University</h3>\n",
    "<h4>Prof. Douglas P. Holmes</h4>"
   ]
  },
  {
   "cell_type": "markdown",
   "metadata": {},
   "source": [
    "<img src = \"https://upload.wikimedia.org/wikipedia/commons/3/37/Bu-bridge.jpg\" />\n",
    "<a href=\"https://en.wikipedia.org/wiki/Boston_University_Bridge\">BU Bridge</a>, <i>steel truss through arch bridge</i>"
   ]
  },
  {
   "cell_type": "markdown",
   "metadata": {},
   "source": [
    "The basic idea behind the <b>finite element method</b> (FEM) is that a real structure can be divided up, or <i>discretized</i> into a finite number of elements that are connected at nodes, and perhaps also along the boundaries between nodes. The simplest type of element is a <i>bar element</i>. A bar is an element that can only withstand axial loading - stretching or compression. For a planar truss, each bar element will have two nodes - the points at which each element is connected to another element or a support. A bar element is modeled as a linear spring with an effective spring stiffness of $k=EA/L$, where $E$ is Young's elastic modulus, and $A$ is the cross-sectional area. These bar elements can be connected by pins that do not resist rotation at each node to form a <i>truss</i>. Our goal is to solve the force-displacement relations for the entire truss, <i>i.e.</i> $\\mathbf{F}=\\mathbf{K}\\mathbf{u}$. \n",
    "\n",
    "We will solve this problem using the <b>direct stiffness method</b>, whereby we:\n",
    "<ol>\n",
    "    <li><b>Idealize</b> the structure.</li>\n",
    "    <li><b>Breakdown</b> the truss into separate, disconnected elements.</li>\n",
    "    <li><b>Assemble</b> the elements back into a truss, apply the boundary and force conditions, and solve</li>\n",
    "</ol>\n",
    "\n",
    "Here is an overview of idealizing and breaking down the structure:"
   ]
  },
  {
   "cell_type": "code",
   "execution_count": 9,
   "metadata": {},
   "outputs": [
    {
     "data": {
      "image/jpeg": "[encoded data removed]",
      "text/html": [
       "\n",
       "        <iframe\n",
       "            width=\"1280\"\n",
       "            height=\"720\"\n",
       "            src=\"https://www.youtube.com/embed/ZNP9W558BMs\"\n",
       "            frameborder=\"0\"\n",
       "            allowfullscreen\n",
       "        ></iframe>\n",
       "        "
      ],
      "text/plain": [
       "<IPython.lib.display.YouTubeVideo at 0x1044e4bd0>"
      ]
     },
     "execution_count": 9,
     "metadata": {},
     "output_type": "execute_result"
    }
   ],
   "source": [
    "from IPython.lib.display import YouTubeVideo\n",
    "YouTubeVideo('ZNP9W558BMs',width=1280,height=720)"
   ]
  },
  {
   "cell_type": "markdown",
   "metadata": {},
   "source": [
    "Our procedure for solving this problem will proceed as follows:\n",
    "<ol>\n",
    "    <li>Define the geometry and materials of the truss. Where are the nodes, what elements are connected by these nodes, and what are $E$ and $A$ for each element? </li>\n",
    "    <li>What are the boundary conditions, e.g. constraints on displacements $\\mathbf{u}$ and applied forces $\\mathbf{F}$? </li>\n",
    "    <li>Calculate $\\mathbf{K}$.</li>\n",
    "    <ol>\n",
    "        <li>Calculate $\\mathbf{K}_{el}$ for each element.</li>\n",
    "        <li>Augment $\\mathbf{K}_{el}$ to the size of $\\mathbf{K}$ </li>\n",
    "        <li>Add each augmented $\\mathbf{K}_{el}$ to $\\mathbf{K}$</li>\n",
    "    </ol>\n",
    "    <li>The system is underdetermined, so next we removed the known/specified displacements from $\\mathbf{u}$ and solve for the displacements of the free nodes.</li>\n",
    "    <li>To complete the problem, we solve for the unknown reaction forces in $\\mathbf{F}$.</li>\n",
    "</ol>"
   ]
  },
  {
   "cell_type": "markdown",
   "metadata": {},
   "source": [
    "### Python & Jupyter Notebooks\n",
    "We will implement the direct stiffness method using <i>Python</i>. The best and easiest way to get <i>Python</i> and  is through [Anaconda](https://www.anaconda.com/distribution/). If you would like to play with this code without installing <i>Python</i> and <i>Jupyter Notebooks</i> locally, then you can open this code in Google Colab (open the link below in a new tab):"
   ]
  },
  {
   "cell_type": "markdown",
   "metadata": {},
   "source": [
    "[![Open In Colab](https://colab.research.google.com/assets/colab-badge.svg)](https://colab.research.google.com/github/dpholmes/DirectStiffnessMethod/blob/master/planarTruss.ipynb)"
   ]
  },
  {
   "cell_type": "markdown",
   "metadata": {},
   "source": [
    "<b>Importing Python Libraries</b>: In order to use mathematical functions, work with matrices, do symbolic calculations, and plot graphs, we will import a variety of python libraries:"
   ]
  },
  {
   "cell_type": "code",
   "execution_count": 1,
   "metadata": {},
   "outputs": [],
   "source": [
    "# Here are some common libraries that expand the functionality of python\n",
    "import math         # sine, cosine, sqrt, etc.\n",
    "import numpy as np  # so we can work with matrices\n",
    "\n",
    "import matplotlib\n",
    "import matplotlib.pyplot as plt # plotting\n",
    "\n",
    "import sympy as sp # symbolic calculations"
   ]
  },
  {
   "cell_type": "markdown",
   "metadata": {},
   "source": []
  },
  {
   "cell_type": "markdown",
   "metadata": {},
   "source": [
    "<h2>Geometry, Materials, and Boundary Conditions</h2>\n",
    "Here, we will define the ($x$,$y$) coordinates of each node."
   ]
  },
  {
   "cell_type": "code",
   "execution_count": 2,
   "metadata": {},
   "outputs": [],
   "source": [
    "# [x1,y1], ... the (x,y) position of node 1, 2, 3...\n",
    "nodes = np.array([\n",
    "    [0,4],\n",
    "    [3,4],\n",
    "    [0,0],\n",
    "    [3,0],\n",
    "    [6,0]\n",
    "])\n",
    "# a list of all the nodes, and a list of all degrees of freedome (DoF)\n",
    "node_numbers = np.array([*range(len(nodes))])\n",
    "node_DoF = np.array([*range(2*len(nodes))])"
   ]
  },
  {
   "cell_type": "markdown",
   "metadata": {},
   "source": [
    "Next, define the elements. I chose to do this such that element $e$ is connected to the $i$th and $j$th nodes, and has Young's modulus $E$, and cross sectional area $A$. "
   ]
  },
  {
   "cell_type": "code",
   "execution_count": 3,
   "metadata": {},
   "outputs": [],
   "source": [
    "# element e is connected at nodes i and j\n",
    "# element e: [node i, node j, Young's Modulus, Cross Sectional Area] ... note: we'll calculate L later\n",
    "elements = np.array([\n",
    "    [1, 2, 2e11, 1e-5],\n",
    "    [1, 3, 2e11, 1e-5],\n",
    "    [3, 2, 2e11, 1e-5],\n",
    "    [2, 4, 2e11, 1e-5],\n",
    "    [2, 5, 2e11, 1e-5],\n",
    "    [3, 4, 2e11, 1e-5],\n",
    "    [4, 5, 2e11, 1e-5]\n",
    "])"
   ]
  },
  {
   "cell_type": "markdown",
   "metadata": {},
   "source": [
    "Let's plot our structure in its original, undeformed, or reference, state:"
   ]
  },
  {
   "cell_type": "code",
   "execution_count": 4,
   "metadata": {},
   "outputs": [
    {
     "data": {
      "image/png": "[encoded data removed]",
      "text/plain": [
       "<Figure size 432x288 with 1 Axes>"
      ]
     },
     "metadata": {
      "needs_background": "light"
     },
     "output_type": "display_data"
    }
   ],
   "source": [
    "# set axes aspect ratio = 1\n",
    "# turn off the axis\n",
    "plt.axes().set_aspect('equal') \n",
    "plt.axis('off') \n",
    "\n",
    "# plot the nodes\n",
    "plt.plot(nodes[:,0], nodes[:,1], 'k.',markersize=15)\n",
    "# plot the elements\n",
    "# loop through the list of elements, grab the x position and y position of each node associated with that element\n",
    "# the line: 'elements[i,0]-1' is necessary because python starts counting at 0, not 1 (like MATLAB)\n",
    "for i in range(len(elements)):\n",
    "    plt.plot(np.array([\n",
    "    nodes[int(elements[i,0]-1),0], nodes[int(elements[i,1]-1),0]]),\n",
    "         np.array([nodes[int(elements[i,0]-1),1], nodes[int(elements[i,1]-1),1]]),\n",
    "         'k-')\n",
    "plt.show()"
   ]
  },
  {
   "cell_type": "markdown",
   "metadata": {},
   "source": [
    "Now, we impose our boundary conditions. The Dirichlet conditions on displacement are typically inputted as list containing the node, the degree of freedom ($x=1$,$y=2$), and the magnitude of displacement."
   ]
  },
  {
   "cell_type": "code",
   "execution_count": 5,
   "metadata": {},
   "outputs": [],
   "source": [
    "# dirichlet boundary conditions\n",
    "# [node, DoF (x=1, y=2), value]\n",
    "bc = np.array([\n",
    "    [1,1,0],\n",
    "    [1,2,0],\n",
    "    [3,1,0],\n",
    "    [5,1,0],\n",
    "    [5,2,0]\n",
    "])"
   ]
  },
  {
   "cell_type": "markdown",
   "metadata": {},
   "source": [
    "Forces are applied at node 3, we'll enter the node, degree of freedom, and magnitude."
   ]
  },
  {
   "cell_type": "code",
   "execution_count": 6,
   "metadata": {},
   "outputs": [],
   "source": [
    "# neumann boundary conditions - e.g. forces\n",
    "# [node, DoF (x=1,y=2), magnitude of force]\n",
    "forces = np.array([\n",
    "    [2,1, 10e4],\n",
    "    [4,2,-10e4]\n",
    "])"
   ]
  },
  {
   "cell_type": "markdown",
   "metadata": {},
   "source": [
    "<h2>Master Stiffness Matrix</h2>\n",
    "First, we initialize our force and displacement vectors along with our master stiffness matrix. "
   ]
  },
  {
   "cell_type": "code",
   "execution_count": 7,
   "metadata": {},
   "outputs": [],
   "source": [
    "# initializing the vectors F, u, and the matrix K\n",
    "F = u = np.zeros(2*len(nodes))\n",
    "K = np.zeros([2*len(nodes), 2*len(nodes)])"
   ]
  },
  {
   "cell_type": "markdown",
   "metadata": {},
   "source": [
    "It will be useful to convert the nodes into $x$, $y$ coordinates. We can use these coordinates to calculate $L$ for each element, as well as each element's angle from the horizontal plane defined by the coordinate system of the structure."
   ]
  },
  {
   "cell_type": "code",
   "execution_count": 8,
   "metadata": {},
   "outputs": [],
   "source": [
    "# given an element e, what are the (x,y) coordinates of each node?\n",
    "def XY(nodes, elements, e):\n",
    "    return np.array([\n",
    "        nodes[int(elements[e,0]-1)],\n",
    "        nodes[int(elements[e,1]-1)]\n",
    "    ])"
   ]
  },
  {
   "cell_type": "code",
   "execution_count": 10,
   "metadata": {},
   "outputs": [],
   "source": [
    "# for element e, what degrees of freedom in the structure do the nodes correspond to?\n",
    "def elementDoF(node_DoF, elements, i):\n",
    "    node_i = int(elements[i,:2][0])-1 # -1 is for python counting\n",
    "    node_j = int(elements[i,:2][1])-1 # -1 is for python counting\n",
    "    \n",
    "    elementDoF = np.array([\n",
    "        [node_DoF[2*node_i]],\n",
    "        [node_DoF[2*node_i+1]],\n",
    "        [node_DoF[2*node_j]],\n",
    "        [node_DoF[2*node_j+1]],\n",
    "    ])\n",
    "\n",
    "    return elementDoF"
   ]
  },
  {
   "cell_type": "markdown",
   "metadata": {},
   "source": [
    "### Elemental Stiffness Matrix\n",
    "Here is an overview of how to derive the elemental stiffness matrix:"
   ]
  },
  {
   "cell_type": "code",
   "execution_count": 16,
   "metadata": {},
   "outputs": [
    {
     "data": {
      "image/jpeg": "[encoded data removed]",
      "text/html": [
       "\n",
       "        <iframe\n",
       "            width=\"1280\"\n",
       "            height=\"720\"\n",
       "            src=\"https://www.youtube.com/embed/_U00ovcmNbc\"\n",
       "            frameborder=\"0\"\n",
       "            allowfullscreen\n",
       "        ></iframe>\n",
       "        "
      ],
      "text/plain": [
       "<IPython.lib.display.YouTubeVideo at 0x1044e4d90>"
      ]
     },
     "execution_count": 16,
     "metadata": {},
     "output_type": "execute_result"
    }
   ],
   "source": [
    "YouTubeVideo('_U00ovcmNbc',width=1280,height=720)"
   ]
  },
  {
   "cell_type": "markdown",
   "metadata": {},
   "source": [
    "Let's define a function to calculate the elemental stiffness matrix for each element. We'll use the notation $c \\equiv \\cos{\\theta}$ and $s \\equiv \\sin{\\theta}$. Recall that the $\\cos{\\theta}=\\frac{x_2-x_1}{L}$ and $\\sin{\\theta}=\\frac{y_2-y_1}{L}$."
   ]
  },
  {
   "cell_type": "code",
   "execution_count": 9,
   "metadata": {},
   "outputs": [],
   "source": [
    "# elemental stiffness matrix in global coordinates\n",
    "def Kel(XY, E, A):\n",
    "    x1, y1, x2, y2 = XY[0,0], XY[0,1], XY[1,0], XY[1,1]\n",
    "    \n",
    "    L = math.sqrt((x2-x1)**2 + (y2-y1)**2)\n",
    "    c = (x2-x1)/L\n",
    "    s = (y2-y1)/L\n",
    "    \n",
    "    Kel = E*A/L*np.array([\n",
    "        [c**2, c*s, -c**2, -c*s],\n",
    "        [c*s, s**2, -c*s, -s**2],\n",
    "        [-c**2, -c*s, c**2, c*s],\n",
    "        [-c*s, -s**2, c*s, s**2]\n",
    "    ])\n",
    "    \n",
    "    return Kel  "
   ]
  },
  {
   "cell_type": "code",
   "execution_count": 12,
   "metadata": {},
   "outputs": [],
   "source": [
    "# augment the elemental stiffness matrix by inserting the local stiffness matrix \n",
    "# into the correct location within the global stiffness matrix.\n",
    "# this could be done more efficiently, but i will add a visualization above to help identify what goes where\n",
    "\n",
    "def Kaug(K, e, Kel, node_DoF):\n",
    "    i = elementDoF(node_DoF, elements, e)[0][0]\n",
    "    j = elementDoF(node_DoF, elements, e)[1][0]\n",
    "    k = elementDoF(node_DoF, elements, e)[2][0]\n",
    "    l = elementDoF(node_DoF, elements, e)[3][0]\n",
    "    \n",
    "    K[i][i] += Kel[0][0] \n",
    "    K[j][j] += Kel[1][1]\n",
    "    K[i][j] += Kel[0][1]\n",
    "    K[j][i] += Kel[0][1]\n",
    "    \n",
    "    K[k][k] += Kel[2][2]\n",
    "    K[l][l] += Kel[3][3]\n",
    "    K[k][l] += Kel[2][3]\n",
    "    K[l][k] += Kel[2][3]    \n",
    "    \n",
    "    K[i][k] += Kel[0][2]\n",
    "    K[k][i] += Kel[0][2]    \n",
    "    K[i][l] += Kel[0][3]\n",
    "    K[l][i] += Kel[0][3]    \n",
    "    K[j][k] += Kel[1][2]\n",
    "    K[k][j] += Kel[1][2]    \n",
    "    K[j][l] += Kel[1][3]\n",
    "    K[l][j] += Kel[1][3]    \n",
    "    \n",
    "    return K"
   ]
  },
  {
   "cell_type": "code",
   "execution_count": 13,
   "metadata": {},
   "outputs": [],
   "source": [
    "def MasterStiffness(nodes, node_DoF, elements, K):\n",
    "# Calculate the Master Stiffness matrix:\n",
    "# 1. Get the x & y coordinates of each node connected to element i\n",
    "# 2. Calculate the stiffness matrix for element i\n",
    "# 3. Augment the elemental stiffness matrix to the size of K\n",
    "# 4. Add it to K, loop over the remaining elements\n",
    "    for i in range(len(elements)):\n",
    "        nodesXY = XY(nodes, elements, i)\n",
    "        Keli  = Kel(nodesXY, elements[i,2], elements[i,3])\n",
    "        K = Kaug(K, i, Keli, node_DoF)    \n",
    "    return K"
   ]
  },
  {
   "cell_type": "markdown",
   "metadata": {},
   "source": [
    "<h3>Calculate $\\mathbf{K}$</h3>"
   ]
  },
  {
   "cell_type": "code",
   "execution_count": 14,
   "metadata": {},
   "outputs": [],
   "source": [
    "K = MasterStiffness(nodes, node_DoF, elements, K)"
   ]
  },
  {
   "cell_type": "code",
   "execution_count": 15,
   "metadata": {},
   "outputs": [
    {
     "data": {
      "text/latex": [
       "$\\displaystyle \\left[\\begin{matrix}666666.666666667 & 0.0 & -666666.666666667 & 0.0 & 0.0 & 0.0 & 0.0 & 0.0 & 0.0 & 0.0\\\\0.0 & 500000.0 & 0.0 & 0.0 & 0.0 & -500000.0 & 0.0 & 0.0 & 0.0 & 0.0\\\\-666666.666666667 & 0.0 & 954666.666666667 & 0.0 & -144000.0 & -192000.0 & 0.0 & 0.0 & -144000.0 & 192000.0\\\\0.0 & 0.0 & 0.0 & 1012000.0 & -192000.0 & -256000.0 & 0.0 & -500000.0 & 192000.0 & -256000.0\\\\0.0 & 0.0 & -144000.0 & -192000.0 & 810666.666666667 & 192000.0 & -666666.666666667 & 0.0 & 0.0 & 0.0\\\\0.0 & -500000.0 & -192000.0 & -256000.0 & 192000.0 & 756000.0 & 0.0 & 0.0 & 0.0 & 0.0\\\\0.0 & 0.0 & 0.0 & 0.0 & -666666.666666667 & 0.0 & 1333333.33333333 & 0.0 & -666666.666666667 & 0.0\\\\0.0 & 0.0 & 0.0 & -500000.0 & 0.0 & 0.0 & 0.0 & 500000.0 & 0.0 & 0.0\\\\0.0 & 0.0 & -144000.0 & 192000.0 & 0.0 & 0.0 & -666666.666666667 & 0.0 & 810666.666666667 & -192000.0\\\\0.0 & 0.0 & 192000.0 & -256000.0 & 0.0 & 0.0 & 0.0 & 0.0 & -192000.0 & 256000.0\\end{matrix}\\right]$"
      ],
      "text/plain": [
       "Matrix([\n",
       "[ 666666.666666667,       0.0, -666666.666666667,       0.0,               0.0,       0.0,               0.0,       0.0,               0.0,       0.0],\n",
       "[              0.0,  500000.0,               0.0,       0.0,               0.0, -500000.0,               0.0,       0.0,               0.0,       0.0],\n",
       "[-666666.666666667,       0.0,  954666.666666667,       0.0,         -144000.0, -192000.0,               0.0,       0.0,         -144000.0,  192000.0],\n",
       "[              0.0,       0.0,               0.0, 1012000.0,         -192000.0, -256000.0,               0.0, -500000.0,          192000.0, -256000.0],\n",
       "[              0.0,       0.0,         -144000.0, -192000.0,  810666.666666667,  192000.0, -666666.666666667,       0.0,               0.0,       0.0],\n",
       "[              0.0, -500000.0,         -192000.0, -256000.0,          192000.0,  756000.0,               0.0,       0.0,               0.0,       0.0],\n",
       "[              0.0,       0.0,               0.0,       0.0, -666666.666666667,       0.0,  1333333.33333333,       0.0, -666666.666666667,       0.0],\n",
       "[              0.0,       0.0,               0.0, -500000.0,               0.0,       0.0,               0.0,  500000.0,               0.0,       0.0],\n",
       "[              0.0,       0.0,         -144000.0,  192000.0,               0.0,       0.0, -666666.666666667,       0.0,  810666.666666667, -192000.0],\n",
       "[              0.0,       0.0,          192000.0, -256000.0,               0.0,       0.0,               0.0,       0.0,         -192000.0,  256000.0]])"
      ]
     },
     "execution_count": 15,
     "metadata": {},
     "output_type": "execute_result"
    }
   ],
   "source": [
    "sp.Matrix(K)"
   ]
  },
  {
   "cell_type": "markdown",
   "metadata": {},
   "source": [
    "<h2>Solving for the displacements of the free nodes</h2>\n",
    "Here is an overview of how to solve this matrix equation for the unknown displacements, and then the reaction forces at the supports."
   ]
  },
  {
   "cell_type": "code",
   "execution_count": 17,
   "metadata": {},
   "outputs": [
    {
     "data": {
      "image/jpeg": "[encoded data removed]",
      "text/html": [
       "\n",
       "        <iframe\n",
       "            width=\"1280\"\n",
       "            height=\"720\"\n",
       "            src=\"https://www.youtube.com/embed/LTU1mECLkHs\"\n",
       "            frameborder=\"0\"\n",
       "            allowfullscreen\n",
       "        ></iframe>\n",
       "        "
      ],
      "text/plain": [
       "<IPython.lib.display.YouTubeVideo at 0x1044e4ad0>"
      ]
     },
     "execution_count": 17,
     "metadata": {},
     "output_type": "execute_result"
    }
   ],
   "source": [
    "YouTubeVideo('LTU1mECLkHs',width=1280,height=720)"
   ]
  },
  {
   "cell_type": "code",
   "execution_count": 16,
   "metadata": {},
   "outputs": [],
   "source": [
    "# initialize vectors for the specified displacements and forces. these will be [1 x DoF]\n",
    "u_specified=[]\n",
    "F_specified=[0]*2*len(nodes)\n",
    "\n",
    "# what DoF are specified?\n",
    "for i in range(len(bc)):\n",
    "    u_specified.append(2*(bc[i,0]-1)+bc[i,1]-1)\n",
    "# assign the external forces to the corresponding DoF in F   \n",
    "for i in range(len(forces)):    \n",
    "    F_specified[(2*(int(forces[i,0])-1)+int(forces[i,1])-1)]=forces[i,2]\n",
    "    \n",
    "u_unknown = np.delete(u,u_specified) # deleting the specified displacments from u\n",
    "K_reduced = np.delete(K,u_specified,0) # deleting rows\n",
    "K_reduced = np.delete(K_reduced,u_specified,1) # deleting columns\n",
    "F_specified = np.delete(F_specified,u_specified) # deleting the forces that correspond to specified displacments"
   ]
  },
  {
   "cell_type": "code",
   "execution_count": 17,
   "metadata": {},
   "outputs": [
    {
     "data": {
      "text/latex": [
       "$\\displaystyle \\left[\\begin{matrix}100000.0\\\\0.0\\\\0.0\\\\0.0\\\\-100000.0\\end{matrix}\\right]$"
      ],
      "text/plain": [
       "Matrix([\n",
       "[ 100000.0],\n",
       "[      0.0],\n",
       "[      0.0],\n",
       "[      0.0],\n",
       "[-100000.0]])"
      ]
     },
     "execution_count": 17,
     "metadata": {},
     "output_type": "execute_result"
    }
   ],
   "source": [
    "sp.Matrix(F_specified)"
   ]
  },
  {
   "cell_type": "code",
   "execution_count": 18,
   "metadata": {},
   "outputs": [
    {
     "data": {
      "text/latex": [
       "$\\displaystyle \\left[\\begin{matrix}954666.666666667 & 0.0 & -192000.0 & 0.0 & 0.0\\\\0.0 & 1012000.0 & -256000.0 & 0.0 & -500000.0\\\\-192000.0 & -256000.0 & 756000.0 & 0.0 & 0.0\\\\0.0 & 0.0 & 0.0 & 1333333.33333333 & 0.0\\\\0.0 & -500000.0 & 0.0 & 0.0 & 500000.0\\end{matrix}\\right]$"
      ],
      "text/plain": [
       "Matrix([\n",
       "[954666.666666667,       0.0, -192000.0,              0.0,       0.0],\n",
       "[             0.0, 1012000.0, -256000.0,              0.0, -500000.0],\n",
       "[       -192000.0, -256000.0,  756000.0,              0.0,       0.0],\n",
       "[             0.0,       0.0,       0.0, 1333333.33333333,       0.0],\n",
       "[             0.0, -500000.0,       0.0,              0.0,  500000.0]])"
      ]
     },
     "execution_count": 18,
     "metadata": {},
     "output_type": "execute_result"
    }
   ],
   "source": [
    "sp.Matrix(K_reduced)"
   ]
  },
  {
   "cell_type": "code",
   "execution_count": 19,
   "metadata": {},
   "outputs": [],
   "source": [
    "# np.linalg.lstsq does the matrix left division. \n",
    "# it returns the residuals, rank, etc. of the calculation, so we just grab the list, which is element [0]\n",
    "u_unknown = np.linalg.lstsq(K_reduced,F_specified, rcond=None)[0]"
   ]
  },
  {
   "cell_type": "code",
   "execution_count": 20,
   "metadata": {},
   "outputs": [
    {
     "data": {
      "text/plain": [
       "array([ 0.09454976, -0.22066795, -0.0507109 ,  0.        , -0.42066795])"
      ]
     },
     "execution_count": 20,
     "metadata": {},
     "output_type": "execute_result"
    }
   ],
   "source": [
    "u_unknown"
   ]
  },
  {
   "cell_type": "markdown",
   "metadata": {},
   "source": [
    "Putting the displacments of the free/unconstrained nodes back into the displacement vector $\\mathbf{u}$."
   ]
  },
  {
   "cell_type": "code",
   "execution_count": 21,
   "metadata": {},
   "outputs": [],
   "source": [
    "# create a list of all the displacement degrees of freedom (DoF)\n",
    "u_DoF=[]\n",
    "for i in range(len(u)):\n",
    "    u_DoF.append(i)\n",
    "\n",
    "# get the index locations of the free degrees of freedom (DoF)    \n",
    "u_free = (list(set(u_DoF) - set(u_specified)))    \n",
    "\n",
    "# put the free (formerly unknown) displacements into the displacement vector u\n",
    "np.put(u,u_free,u_unknown)"
   ]
  },
  {
   "cell_type": "code",
   "execution_count": 22,
   "metadata": {},
   "outputs": [
    {
     "data": {
      "text/latex": [
       "$\\displaystyle \\left[\\begin{matrix}0.0\\\\0.0\\\\0.0945497630331754\\\\-0.220667950236967\\\\0.0\\\\-0.0507109004739336\\\\0.0\\\\-0.420667950236967\\\\0.0\\\\0.0\\end{matrix}\\right]$"
      ],
      "text/plain": [
       "Matrix([\n",
       "[                0.0],\n",
       "[                0.0],\n",
       "[ 0.0945497630331754],\n",
       "[ -0.220667950236967],\n",
       "[                0.0],\n",
       "[-0.0507109004739336],\n",
       "[                0.0],\n",
       "[ -0.420667950236967],\n",
       "[                0.0],\n",
       "[                0.0]])"
      ]
     },
     "execution_count": 22,
     "metadata": {},
     "output_type": "execute_result"
    }
   ],
   "source": [
    "sp.Matrix(u)"
   ]
  },
  {
   "cell_type": "markdown",
   "metadata": {},
   "source": [
    "Solving for the unknown reaction forces."
   ]
  },
  {
   "cell_type": "code",
   "execution_count": 23,
   "metadata": {},
   "outputs": [],
   "source": [
    "F=np.dot(K,u)"
   ]
  },
  {
   "cell_type": "code",
   "execution_count": 24,
   "metadata": {},
   "outputs": [
    {
     "data": {
      "text/latex": [
       "$\\displaystyle \\left[\\begin{matrix}-63033.1753554503\\\\25355.4502369668\\\\100000.0\\\\-1.4915713109076 \\cdot 10^{-10}\\\\19016.5876777252\\\\9.45874489843845 \\cdot 10^{-11}\\\\0.0\\\\-100000.0\\\\-55983.4123222749\\\\74644.5497630333\\end{matrix}\\right]$"
      ],
      "text/plain": [
       "Matrix([\n",
       "[   -63033.1753554503],\n",
       "[    25355.4502369668],\n",
       "[            100000.0],\n",
       "[-1.4915713109076e-10],\n",
       "[    19016.5876777252],\n",
       "[9.45874489843845e-11],\n",
       "[                 0.0],\n",
       "[           -100000.0],\n",
       "[   -55983.4123222749],\n",
       "[    74644.5497630333]])"
      ]
     },
     "execution_count": 24,
     "metadata": {},
     "output_type": "execute_result"
    }
   ],
   "source": [
    "sp.Matrix(F)"
   ]
  },
  {
   "cell_type": "markdown",
   "metadata": {},
   "source": [
    "<h2>Plotting the initial and deformed truss</h2>\n",
    "First, let's collect the new location of the nodes."
   ]
  },
  {
   "cell_type": "code",
   "execution_count": 25,
   "metadata": {},
   "outputs": [],
   "source": [
    "nodes_new = nodes+np.reshape(u,(len(nodes),2))"
   ]
  },
  {
   "cell_type": "code",
   "execution_count": 26,
   "metadata": {},
   "outputs": [
    {
     "data": {
      "image/png": "[encoded data removed]",
      "text/plain": [
       "<Figure size 432x288 with 1 Axes>"
      ]
     },
     "metadata": {
      "needs_background": "light"
     },
     "output_type": "display_data"
    }
   ],
   "source": [
    "# set axes aspect ratio = 1\n",
    "# turn off the axis\n",
    "plt.axes().set_aspect('equal') \n",
    "plt.axis('off') \n",
    "\n",
    "# plot the nodes\n",
    "plt.plot(nodes[:,0], nodes[:,1], 'k.',markersize=15)\n",
    "plt.plot(nodes_new[:,0], nodes_new[:,1], 'r.',markersize=15)\n",
    "# plot the elements\n",
    "# loop through the list of elements, grab the x position and y position of each node associated with that element\n",
    "# the line: 'elements[i,0]-1' is necessary because python starts counting at 0, not 1 (like MATLAB)\n",
    "for i in range(len(elements)):\n",
    "    plt.plot(np.array([\n",
    "    nodes[int(elements[i,0]-1),0], nodes[int(elements[i,1]-1),0]]),\n",
    "         np.array([nodes[int(elements[i,0]-1),1], nodes[int(elements[i,1]-1),1]]),\n",
    "         'k-')\n",
    "# plot the deformed elements\n",
    "for i in range(len(elements)):\n",
    "    plt.plot(np.array([\n",
    "    nodes_new[int(elements[i,0]-1),0], nodes_new[int(elements[i,1]-1),0]]),\n",
    "         np.array([nodes_new[int(elements[i,0]-1),1], nodes_new[int(elements[i,1]-1),1]]),\n",
    "         'r-')    \n",
    "plt.show()"
   ]
  },
  {
   "cell_type": "code",
   "execution_count": null,
   "metadata": {},
   "outputs": [],
   "source": []
  }
 ],
 "metadata": {
  "kernelspec": {
   "display_name": "Python 3",
   "language": "python",
   "name": "python3"
  },
  "language_info": {
   "codemirror_mode": {
    "name": "ipython",
    "version": 3
   },
   "file_extension": ".py",
   "mimetype": "text/x-python",
   "name": "python",
   "nbconvert_exporter": "python",
   "pygments_lexer": "ipython3",
   "version": "3.7.4"
  }
 },
 "nbformat": 4,
 "nbformat_minor": 2
}
