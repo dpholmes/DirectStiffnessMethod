{
 "cells": [
  {
   "cell_type": "markdown",
   "metadata": {},
   "source": [
    "[![Open In Colab](https://colab.research.google.com/assets/colab-badge.svg)](https://colab.research.google.com/github/dpholmes/DirectStiffnessMethod/blob/master/planarTruss.ipynb)"
   ]
  },
  {
   "cell_type": "markdown",
   "metadata": {},
   "source": [
    "<h1>Direct Stiffness Method: Planar Truss</h1>\n",
    "<h3>Structural Mechanics, Boston University</h3>\n",
    "<h4>Prof. Douglas P. Holmes</h4>\n",
    "\n",
    "The problem we're interested in solving is perhaps the simplest planar truss: <b>three bars</b> connected by <b>three pins</b> to form a right triangle. The lower left pin is where we will set the origin of our coordinate system, and it is resting on a simple support. The lower right pin forms the corner of the right triangle, and this support can roll in the horizontal ($x$) direction. We'll work with dimensionless quantities, and assign a length of $L=1$ to the sides adjacent and opposite to the origin. At the pin on the upper right of the truss, we'll apply a force whose components in the $x$ and $y$ directions are: $F_{x_3}=2$ and $F_{y_3}=1$, where the 3 denotes the number we'll assign to the node that the force is acting on. We'll assume that the bars of this truss can only withstand axial loading, and we will model them as <i>two-node bars</i>, i.e. linear springs with an effective spring stiffness of $k=EA/L$, where $E$ is Young's elastic modulus, and $A$ is the cross-sectional area. Our goal is to solve $\\mathbf{F}=\\mathbf{K}\\mathbf{u}$ for this structure.\n",
    "\n",
    "Our procedure for solving this problem will proceed as follows:\n",
    "<ol>\n",
    "    <li>Define the geometry and materials of the truss. Where are the nodes, what elements are connected by these nodes, and what are $E$ and $A$ for each element? </li>\n",
    "    <li>What are the boundary conditions, e.g. constraints on displacements $\\mathbf{u}$ and applied forces $\\mathbf{F}$? </li>\n",
    "    <li>Calculate $\\mathbf{K}$.</li>\n",
    "    <ol>\n",
    "        <li>Calculate $\\mathbf{K}_{el}$ for each element.</li>\n",
    "        <li>Augment $\\mathbf{K}_{el}$ to the size of $\\mathbf{K}$ </li>\n",
    "        <li>Add each augmented $\\mathbf{K}_{el}$ to $\\mathbf{K}$</li>\n",
    "    </ol>\n",
    "    <li>The system is underdetermined, so next we removed the known/specified displacements from $\\mathbf{u}$ and solve for the displacements of the free nodes.</li>\n",
    "    <li>To complete the problem, we solve for the unknown reaction forces in $\\mathbf{F}$.\n",
    "</ol>"
   ]
  },
  {
   "cell_type": "code",
   "execution_count": 1,
   "metadata": {},
   "outputs": [],
   "source": [
    "# Here are some common libraries that expand the functionality of python\n",
    "import math         # sine, cosine, sqrt, etc.\n",
    "import numpy as np  # so we can work with matrices\n",
    "\n",
    "import matplotlib\n",
    "import matplotlib.pyplot as plt # plotting"
   ]
  },
  {
   "cell_type": "markdown",
   "metadata": {},
   "source": [
    "<h2>Geometry, Materials, and Boundary Conditions</h2>\n",
    "Here, we will define the ($x$,$y$) coordinates of each node."
   ]
  },
  {
   "cell_type": "code",
   "execution_count": 2,
   "metadata": {},
   "outputs": [],
   "source": [
    "# [x1,y1], ... the (x,y) position of node 1, 2, 3...\n",
    "nodes = np.array([\n",
    "    [0,0],\n",
    "    [1,0],\n",
    "    [1,1]\n",
    "])\n",
    "# a list of all the nodes\n",
    "node_numbers = np.array([*range(len(nodes))])"
   ]
  },
  {
   "cell_type": "markdown",
   "metadata": {},
   "source": [
    "Next, define the elements. I chose to do this such that element $e$ is connected to the $i$th and $j$th nodes, and has Young's modulus $E$, and cross sectional area $A$. "
   ]
  },
  {
   "cell_type": "code",
   "execution_count": 3,
   "metadata": {},
   "outputs": [],
   "source": [
    "# element e is connected at nodes i and j\n",
    "# element e: [node i, node j, Young's Modulus, Cross Sectional Area] ... note: we'll calculate L later\n",
    "elements = np.array([\n",
    "    [1,2,10,1],\n",
    "    [2,3,5,1],\n",
    "    [1,3,20*math.sqrt(2), 1]\n",
    "])"
   ]
  },
  {
   "cell_type": "markdown",
   "metadata": {},
   "source": [
    "Let's plot our structure in its original, undeformed, or reference, state:"
   ]
  },
  {
   "cell_type": "code",
   "execution_count": 37,
   "metadata": {},
   "outputs": [
    {
     "data": {
      "image/png": "[encoded data removed]",
      "text/plain": [
       "<Figure size 432x288 with 1 Axes>"
      ]
     },
     "metadata": {
      "needs_background": "light"
     },
     "output_type": "display_data"
    }
   ],
   "source": [
    "# set axes aspect ratio = 1\n",
    "# turn off the axis\n",
    "plt.axes().set_aspect('equal') \n",
    "plt.axis('off') \n",
    "\n",
    "# plot the nodes\n",
    "plt.plot(nodes[:,0], nodes[:,1], 'k.',markersize=15)\n",
    "# plot the elements\n",
    "# loop through the list of elements, grab the x position and y position of each node associated with that element\n",
    "# the line: 'elements[i,0]-1' is necessary because python starts counting at 0, not 1 (like MATLAB)\n",
    "for i in range(len(elements)):\n",
    "    plt.plot(np.array([\n",
    "    nodes[int(elements[i,0]-1),0], nodes[int(elements[i,1]-1),0]]),\n",
    "         np.array([nodes[int(elements[i,0]-1),1], nodes[int(elements[i,1]-1),1]]),\n",
    "         'k-')\n",
    "plt.show()"
   ]
  },
  {
   "cell_type": "markdown",
   "metadata": {},
   "source": [
    "Now, we impose our boundary conditions. The Dirichlet conditions on displacement are typically inputted as list containing the node, the degree of freedom ($x=1$,$y=2$), and the magnitude of displacement."
   ]
  },
  {
   "cell_type": "code",
   "execution_count": 6,
   "metadata": {},
   "outputs": [],
   "source": [
    "# dirichlet boundary conditions\n",
    "# [node, DoF (x=1, y=2), value]\n",
    "bc = np.array([\n",
    "    [1,1,0],\n",
    "    [1,2,0],\n",
    "    [2,2,0]\n",
    "])"
   ]
  },
  {
   "cell_type": "markdown",
   "metadata": {},
   "source": [
    "Forces are applied at node 3, we'll enter the node, degree of freedom, and magnitude."
   ]
  },
  {
   "cell_type": "code",
   "execution_count": 7,
   "metadata": {},
   "outputs": [],
   "source": [
    "# neumann boundary conditions - e.g. forces\n",
    "# [node, DoF (x=1,y=2), magnitude of force]\n",
    "forces = np.array([\n",
    "    [3,1,2],\n",
    "    [3,2,1]\n",
    "])"
   ]
  },
  {
   "cell_type": "markdown",
   "metadata": {},
   "source": [
    "<h2>Master Stiffness Matrix</h2>\n",
    "First, we initialize our force and displacement vectors along with our master stiffness matrix. "
   ]
  },
  {
   "cell_type": "code",
   "execution_count": 8,
   "metadata": {},
   "outputs": [],
   "source": [
    "# initializing the vectors F, u, and the matrix K\n",
    "F = u = np.zeros(2*len(nodes))\n",
    "K = np.zeros([2*len(nodes), 2*len(nodes)])"
   ]
  },
  {
   "cell_type": "markdown",
   "metadata": {},
   "source": [
    "It will be useful to convert the nodes into $x$, $y$ coordinates. We can use these coordinates to calculate $L$ for each element, as well as each element's angle from the horizontal plane defined by the coordinate system of the structure."
   ]
  },
  {
   "cell_type": "code",
   "execution_count": 9,
   "metadata": {},
   "outputs": [],
   "source": [
    "def XY(nodes, elements, i):\n",
    "    return np.array([\n",
    "        nodes[int(elements[i,0]-1)],\n",
    "        nodes[int(elements[i,1]-1)]\n",
    "    ])"
   ]
  },
  {
   "cell_type": "markdown",
   "metadata": {},
   "source": [
    "Let's define a function to calculate the elemental stiffness matrix for each element. We'll use the notation $c \\equiv \\cos{\\theta}$ and $s \\equiv \\sin{\\theta}$. Recall that the $\\cos{\\theta}=\\frac{x_2-x_1}{L}$ and $\\sin{\\theta}=\\frac{y_2-y_1}{L}$."
   ]
  },
  {
   "cell_type": "code",
   "execution_count": 10,
   "metadata": {},
   "outputs": [],
   "source": [
    "# elemental stiffness matrix in global coordinates\n",
    "def Kel(XY, E, A):\n",
    "    x1, y1, x2, y2 = XY[0,0], XY[0,1], XY[1,0], XY[1,1]\n",
    "    \n",
    "    L = math.sqrt((x2-x1)**2 + (y2-y1)**2)\n",
    "    c = (x2-x1)/L\n",
    "    s = (y2-y1)/L\n",
    "    \n",
    "    Kel = E*A/L*np.array([\n",
    "        [c**2, c*s, -c**2, -c*s],\n",
    "        [c*s, s**2, -c*s, -s**2],\n",
    "        [-c**2, -c*s, c**2, c*s],\n",
    "        [-c*s, -s**2, c*s, s**2]\n",
    "    ])\n",
    "    \n",
    "    return Kel  "
   ]
  },
  {
   "cell_type": "markdown",
   "metadata": {},
   "source": [
    "In order to be able to augment the elemental stiffness matrix, we need to know which nodes are <i>not</i> connected to a given element. So, I defined a function that determines that:"
   ]
  },
  {
   "cell_type": "code",
   "execution_count": 11,
   "metadata": {},
   "outputs": [],
   "source": [
    "# What nodes are not connected to the ith element?\n",
    "# list_of_all_nodes+1... the +1 is to align python numbering (starts at 0) with our numbering (starts at 1)\n",
    "def missingNodes(list_of_all_nodes, list_of_element_nodes): \n",
    "    return (list(set(list_of_all_nodes+1) - set(list_of_element_nodes+1))) "
   ]
  },
  {
   "cell_type": "markdown",
   "metadata": {},
   "source": [
    "Now, we augment the stiffness matrix by adding rows and columns that correspond to the missing nodes.."
   ]
  },
  {
   "cell_type": "code",
   "execution_count": 12,
   "metadata": {},
   "outputs": [],
   "source": [
    "# augment the elemental stiffness matrix by adding rows & columns of zeroes at the missing nodes\n",
    "def Kaug(Kel, element):\n",
    "    \n",
    "    missing = missingNodes(node_numbers,elements[element,:2]-1)\n",
    "    \n",
    "    Kaug1 = np.insert(Kel, missing, 0, axis=0)\n",
    "    Kaug2 = np.insert(Kaug1, missing, 0, axis=0)\n",
    "    Kaug3 = np.insert(Kaug2, missing, 0, axis=1)\n",
    "    Kaug  = np.insert(Kaug3, missing, 0, axis=1)\n",
    "    return Kaug"
   ]
  },
  {
   "cell_type": "code",
   "execution_count": 13,
   "metadata": {},
   "outputs": [],
   "source": [
    "def MasterStiffness(nodes, elements, K):\n",
    "# Calculate the Master Stiffness matrix:\n",
    "# 1. Get the x & y coordinates of each node connected to element i\n",
    "# 2. Calculate the stiffness matrix for element i\n",
    "# 3. Augment the elemental stiffness matrix to the size of K\n",
    "# 4. Add it to K, loop over the remaining elements\n",
    "    for i in range(len(elements)):\n",
    "        nodesXY = XY(nodes, elements, i)\n",
    "        Keli  = Kel(nodesXY, elements[i,2], elements[i,3])\n",
    "        Kaugi = Kaug(Keli, i)\n",
    "        K = np.add(K, Kaugi)    \n",
    "    return K"
   ]
  },
  {
   "cell_type": "markdown",
   "metadata": {},
   "source": [
    "<h3>Calculate $\\mathbf{K}$</h3>"
   ]
  },
  {
   "cell_type": "code",
   "execution_count": 14,
   "metadata": {},
   "outputs": [],
   "source": [
    "K = MasterStiffness(nodes, elements, K)"
   ]
  },
  {
   "cell_type": "markdown",
   "metadata": {},
   "source": [
    "<h2>Solving for the displacements of the free nodes</h2>"
   ]
  },
  {
   "cell_type": "code",
   "execution_count": 15,
   "metadata": {},
   "outputs": [],
   "source": [
    "# initialize vectors for the specified displacements and forces. these will be [1 x DoF]\n",
    "u_specified=[]\n",
    "F_specified=[0]*2*len(nodes)\n",
    "\n",
    "# what DoF are specified?\n",
    "for i in range(len(bc)):\n",
    "    u_specified.append(2*(bc[i,0]-1)+bc[i,1]-1)\n",
    "# assign the external forces to the corresponding DoF in F   \n",
    "for i in range(len(forces)):    \n",
    "    F_specified[(2*(forces[i,0]-1)+forces[i,1])-1]=forces[i,2]\n",
    "    \n",
    "u_unknown = np.delete(u,u_specified) # deleting the specified displacments from u\n",
    "K_reduced = np.delete(K,u_specified,0) # deleting rows\n",
    "K_reduced = np.delete(K_reduced,u_specified,1) # deleting columns\n",
    "F_specified = np.delete(F_specified,u_specified) # deleting the forces that correspond to specified displacments"
   ]
  },
  {
   "cell_type": "code",
   "execution_count": 16,
   "metadata": {},
   "outputs": [
    {
     "data": {
      "text/plain": [
       "array([0, 2, 1])"
      ]
     },
     "execution_count": 16,
     "metadata": {},
     "output_type": "execute_result"
    }
   ],
   "source": [
    "F_specified"
   ]
  },
  {
   "cell_type": "code",
   "execution_count": 17,
   "metadata": {},
   "outputs": [
    {
     "data": {
      "text/plain": [
       "array([[10.,  0.,  0.],\n",
       "       [ 0., 10., 10.],\n",
       "       [ 0., 10., 15.]])"
      ]
     },
     "execution_count": 17,
     "metadata": {},
     "output_type": "execute_result"
    }
   ],
   "source": [
    "K_reduced"
   ]
  },
  {
   "cell_type": "code",
   "execution_count": 18,
   "metadata": {},
   "outputs": [],
   "source": [
    "# np.linalg.lstsq does the matrix left division. \n",
    "# it returns the residuals, rank, etc. of the calculation, so we just grab the list, which is element [0]\n",
    "u_unknown = np.linalg.lstsq(K_reduced,F_specified, rcond=None)[0]"
   ]
  },
  {
   "cell_type": "code",
   "execution_count": 19,
   "metadata": {},
   "outputs": [
    {
     "data": {
      "text/plain": [
       "array([ 0. ,  0.4, -0.2])"
      ]
     },
     "execution_count": 19,
     "metadata": {},
     "output_type": "execute_result"
    }
   ],
   "source": [
    "u_unknown"
   ]
  },
  {
   "cell_type": "markdown",
   "metadata": {},
   "source": [
    "Putting the displacments of the free/unconstrained nodes back into the displacement vector $\\mathbf{u}$."
   ]
  },
  {
   "cell_type": "code",
   "execution_count": 20,
   "metadata": {},
   "outputs": [],
   "source": [
    "# create a list of all the displacement degrees of freedom (DoF)\n",
    "u_DoF=[]\n",
    "for i in range(len(u)):\n",
    "    u_DoF.append(i)\n",
    "\n",
    "# get the index locations of the free degrees of freedom (DoF)    \n",
    "u_free = (list(set(u_DoF) - set(u_specified)))    \n",
    "\n",
    "# put the free (formerly unknown) displacements into the displacement vector u\n",
    "np.put(u,u_free,u_unknown)"
   ]
  },
  {
   "cell_type": "code",
   "execution_count": 21,
   "metadata": {},
   "outputs": [
    {
     "data": {
      "text/plain": [
       "array([ 0. ,  0. ,  0. ,  0. ,  0.4, -0.2])"
      ]
     },
     "execution_count": 21,
     "metadata": {},
     "output_type": "execute_result"
    }
   ],
   "source": [
    "u"
   ]
  },
  {
   "cell_type": "markdown",
   "metadata": {},
   "source": [
    "Solving for the unknown reaction forces."
   ]
  },
  {
   "cell_type": "code",
   "execution_count": 22,
   "metadata": {},
   "outputs": [],
   "source": [
    "F=np.dot(K,u)"
   ]
  },
  {
   "cell_type": "code",
   "execution_count": 23,
   "metadata": {},
   "outputs": [
    {
     "data": {
      "text/plain": [
       "array([-2., -2.,  0.,  1.,  2.,  1.])"
      ]
     },
     "execution_count": 23,
     "metadata": {},
     "output_type": "execute_result"
    }
   ],
   "source": [
    "F"
   ]
  },
  {
   "cell_type": "markdown",
   "metadata": {},
   "source": [
    "<h2>Plotting the initial and deformed truss</h2>\n",
    "First, let's collect the new location of the nodes."
   ]
  },
  {
   "cell_type": "code",
   "execution_count": 24,
   "metadata": {},
   "outputs": [],
   "source": [
    "nodes_new = nodes+np.reshape(u,(len(nodes),2))"
   ]
  },
  {
   "cell_type": "code",
   "execution_count": 36,
   "metadata": {},
   "outputs": [
    {
     "data": {
      "image/png": "[encoded data removed]",
      "text/plain": [
       "<Figure size 432x288 with 1 Axes>"
      ]
     },
     "metadata": {
      "needs_background": "light"
     },
     "output_type": "display_data"
    }
   ],
   "source": [
    "# set axes aspect ratio = 1\n",
    "# turn off the axis\n",
    "plt.axes().set_aspect('equal') \n",
    "plt.axis('off') \n",
    "\n",
    "# plot the nodes\n",
    "plt.plot(nodes[:,0], nodes[:,1], 'k.',markersize=15)\n",
    "plt.plot(nodes_new[:,0], nodes_new[:,1], 'r.',markersize=15)\n",
    "# plot the elements\n",
    "# loop through the list of elements, grab the x position and y position of each node associated with that element\n",
    "# the line: 'elements[i,0]-1' is necessary because python starts counting at 0, not 1 (like MATLAB)\n",
    "for i in range(len(elements)):\n",
    "    plt.plot(np.array([\n",
    "    nodes[int(elements[i,0]-1),0], nodes[int(elements[i,1]-1),0]]),\n",
    "         np.array([nodes[int(elements[i,0]-1),1], nodes[int(elements[i,1]-1),1]]),\n",
    "         'k-')\n",
    "# plot the deformed elements\n",
    "for i in range(len(elements)):\n",
    "    plt.plot(np.array([\n",
    "    nodes_new[int(elements[i,0]-1),0], nodes_new[int(elements[i,1]-1),0]]),\n",
    "         np.array([nodes_new[int(elements[i,0]-1),1], nodes_new[int(elements[i,1]-1),1]]),\n",
    "         'r-')    \n",
    "plt.show()"
   ]
  },
  {
   "cell_type": "code",
   "execution_count": null,
   "metadata": {},
   "outputs": [],
   "source": []
  }
 ],
 "metadata": {
  "kernelspec": {
   "display_name": "Python 3",
   "language": "python",
   "name": "python3"
  },
  "language_info": {
   "codemirror_mode": {
    "name": "ipython",
    "version": 3
   },
   "file_extension": ".py",
   "mimetype": "text/x-python",
   "name": "python",
   "nbconvert_exporter": "python",
   "pygments_lexer": "ipython3",
   "version": "3.6.9"
  }
 },
 "nbformat": 4,
 "nbformat_minor": 2
}
